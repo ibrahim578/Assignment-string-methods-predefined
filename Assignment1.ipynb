{
 "cells": [
  {
   "cell_type": "code",
   "execution_count": 1,
   "metadata": {},
   "outputs": [
    {
     "data": {
      "text/plain": [
       "['__add__',\n",
       " '__class__',\n",
       " '__contains__',\n",
       " '__delattr__',\n",
       " '__dir__',\n",
       " '__doc__',\n",
       " '__eq__',\n",
       " '__format__',\n",
       " '__ge__',\n",
       " '__getattribute__',\n",
       " '__getitem__',\n",
       " '__getnewargs__',\n",
       " '__gt__',\n",
       " '__hash__',\n",
       " '__init__',\n",
       " '__init_subclass__',\n",
       " '__iter__',\n",
       " '__le__',\n",
       " '__len__',\n",
       " '__lt__',\n",
       " '__mod__',\n",
       " '__mul__',\n",
       " '__ne__',\n",
       " '__new__',\n",
       " '__reduce__',\n",
       " '__reduce_ex__',\n",
       " '__repr__',\n",
       " '__rmod__',\n",
       " '__rmul__',\n",
       " '__setattr__',\n",
       " '__sizeof__',\n",
       " '__str__',\n",
       " '__subclasshook__',\n",
       " 'capitalize',\n",
       " 'casefold',\n",
       " 'center',\n",
       " 'count',\n",
       " 'encode',\n",
       " 'endswith',\n",
       " 'expandtabs',\n",
       " 'find',\n",
       " 'format',\n",
       " 'format_map',\n",
       " 'index',\n",
       " 'isalnum',\n",
       " 'isalpha',\n",
       " 'isascii',\n",
       " 'isdecimal',\n",
       " 'isdigit',\n",
       " 'isidentifier',\n",
       " 'islower',\n",
       " 'isnumeric',\n",
       " 'isprintable',\n",
       " 'isspace',\n",
       " 'istitle',\n",
       " 'isupper',\n",
       " 'join',\n",
       " 'ljust',\n",
       " 'lower',\n",
       " 'lstrip',\n",
       " 'maketrans',\n",
       " 'partition',\n",
       " 'replace',\n",
       " 'rfind',\n",
       " 'rindex',\n",
       " 'rjust',\n",
       " 'rpartition',\n",
       " 'rsplit',\n",
       " 'rstrip',\n",
       " 'split',\n",
       " 'splitlines',\n",
       " 'startswith',\n",
       " 'strip',\n",
       " 'swapcase',\n",
       " 'title',\n",
       " 'translate',\n",
       " 'upper',\n",
       " 'zfill']"
      ]
     },
     "execution_count": 1,
     "metadata": {},
     "output_type": "execute_result"
    }
   ],
   "source": [
    "x= \"Muhammad Ibrahim\"\n",
    "dir(x)"
   ]
  },
  {
   "cell_type": "code",
   "execution_count": 7,
   "metadata": {},
   "outputs": [
    {
     "name": "stdout",
     "output_type": "stream",
     "text": [
      "Muhammad ibrahim\n"
     ]
    }
   ],
   "source": [
    "x = \"muhammad Ibrahim\"           # first character of string is changed to uppercase\n",
    "print(x.capitalize())"
   ]
  },
  {
   "cell_type": "code",
   "execution_count": 9,
   "metadata": {},
   "outputs": [
    {
     "name": "stdout",
     "output_type": "stream",
     "text": [
      "muhammad ibrahim\n"
     ]
    }
   ],
   "source": [
    "x= \"Muhammad Ibrahim\"               #all characters of string are lowercased\n",
    "print(x.casefold())\n"
   ]
  },
  {
   "cell_type": "code",
   "execution_count": 13,
   "metadata": {},
   "outputs": [
    {
     "name": "stdout",
     "output_type": "stream",
     "text": [
      "wwwwwwwwwwwwwwwwwwwwwwMuhammad ibrahimwwwwwwwwwwwwwwwwwwwwww\n"
     ]
    }
   ],
   "source": [
    "x =\"Muhammad ibrahim\"              #it gives spaces of 60(number of spaces) half before string and half after string, if in \"\" something written than it print that character on those spaces \n",
    "print(x.center(60,\"w\"))             # if \"w\" not written than it just add spaces"
   ]
  },
  {
   "cell_type": "code",
   "execution_count": 14,
   "metadata": {},
   "outputs": [
    {
     "name": "stdout",
     "output_type": "stream",
     "text": [
      "3\n"
     ]
    }
   ],
   "source": [
    "x = \"Muhammad Ibrahim\"            #it willl print the number of m how many times in string and return integer value\n",
    "print(x.count(\"m\"))"
   ]
  },
  {
   "cell_type": "code",
   "execution_count": 15,
   "metadata": {},
   "outputs": [
    {
     "name": "stdout",
     "output_type": "stream",
     "text": [
      "b'Muhammad Ibrahim'\n"
     ]
    }
   ],
   "source": [
    "x= \"Muhammad Ibrahim\"            #this method returns an encoded version of the string\n",
    "print(x.encode())"
   ]
  },
  {
   "cell_type": "code",
   "execution_count": 16,
   "metadata": {},
   "outputs": [
    {
     "name": "stdout",
     "output_type": "stream",
     "text": [
      "True\n"
     ]
    }
   ],
   "source": [
    "x= \"Muhammad Ibrahim\"          #it will retuen true or false if the string ends with the charcter in \"_\"\n",
    "print(x.endswith(\"m\"))"
   ]
  },
  {
   "cell_type": "code",
   "execution_count": 32,
   "metadata": {},
   "outputs": [
    {
     "name": "stdout",
     "output_type": "stream",
     "text": [
      "Muha  mmad Ibr  ahim\n"
     ]
    }
   ],
   "source": [
    "x='Muha\\tmmad Ibr\\tahim'\n",
    "print(x.expandtabs(2))             #Sets the tab size of the string\n"
   ]
  },
  {
   "cell_type": "code",
   "execution_count": 33,
   "metadata": {},
   "outputs": [
    {
     "name": "stdout",
     "output_type": "stream",
     "text": [
      "ibra him\n"
     ]
    }
   ],
   "source": [
    "a='ibra\\thim'\n",
    "b=a.expandtabs(5)                  #Sets the tab size of the string\n",
    "print(b)"
   ]
  },
  {
   "cell_type": "code",
   "execution_count": 35,
   "metadata": {},
   "outputs": [
    {
     "name": "stdout",
     "output_type": "stream",
     "text": [
      "True\n"
     ]
    }
   ],
   "source": [
    "x= \"Muhammadibrahim\"         # returns true if all characters of string are alphabets\n",
    "print(x.isalpha())"
   ]
  },
  {
   "cell_type": "code",
   "execution_count": 37,
   "metadata": {},
   "outputs": [
    {
     "name": "stdout",
     "output_type": "stream",
     "text": [
      "True\n"
     ]
    }
   ],
   "source": [
    "y=\"muhammadibrahim\"\n",
    "z=y.isalpha()                #Returns True if all characters in the string are in the alphabet\n",
    "print(z)\n"
   ]
  },
  {
   "cell_type": "code",
   "execution_count": 38,
   "metadata": {},
   "outputs": [
    {
     "name": "stdout",
     "output_type": "stream",
     "text": [
      "True\n"
     ]
    }
   ],
   "source": [
    "x = \"Muhammad12ibrahim\"     # it will return true if string is alphanumeric \n",
    "print(x.isalnum())"
   ]
  },
  {
   "cell_type": "code",
   "execution_count": 40,
   "metadata": {},
   "outputs": [
    {
     "name": "stdout",
     "output_type": "stream",
     "text": [
      "False\n"
     ]
    }
   ],
   "source": [
    "x= \"Muhammad ibrahim\"  #return false if string is not alphanumeric. space is consider as false. if no space between string than it returns true\n",
    "print(x.isalnum())"
   ]
  },
  {
   "cell_type": "code",
   "execution_count": 42,
   "metadata": {},
   "outputs": [
    {
     "name": "stdout",
     "output_type": "stream",
     "text": [
      "28\n"
     ]
    }
   ],
   "source": [
    "x= \"my name is Muhammad Ibrahim and i study in bahria\"  #it will search the string and return the specified position of the string to find \n",
    "print(x.find('and'))"
   ]
  },
  {
   "cell_type": "code",
   "execution_count": 43,
   "metadata": {},
   "outputs": [
    {
     "name": "stdout",
     "output_type": "stream",
     "text": [
      "False\n"
     ]
    }
   ],
   "source": [
    "x = \"Muhammadibrahim\"       #return false if the string is not lowercase\n",
    "print(x.islower()) "
   ]
  },
  {
   "cell_type": "code",
   "execution_count": 44,
   "metadata": {},
   "outputs": [
    {
     "name": "stdout",
     "output_type": "stream",
     "text": [
      "True\n"
     ]
    }
   ],
   "source": [
    "x = \"muhammadibrahim\"  \n",
    "print(x.islower())"
   ]
  },
  {
   "cell_type": "code",
   "execution_count": 45,
   "metadata": {},
   "outputs": [
    {
     "name": "stdout",
     "output_type": "stream",
     "text": [
      "True\n"
     ]
    }
   ],
   "source": [
    "x= \"132332\"             #return true if string has  numeric values\n",
    "print(x.isnumeric())"
   ]
  },
  {
   "cell_type": "code",
   "execution_count": 46,
   "metadata": {},
   "outputs": [
    {
     "name": "stdout",
     "output_type": "stream",
     "text": [
      "True\n"
     ]
    }
   ],
   "source": [
    "x= \"Muhammad Ibrahim\"         #it will return true if the string follows the title format\n",
    "print(x.istitle())"
   ]
  },
  {
   "cell_type": "code",
   "execution_count": 47,
   "metadata": {},
   "outputs": [
    {
     "name": "stdout",
     "output_type": "stream",
     "text": [
      "muhammad ibrahim\n"
     ]
    }
   ],
   "source": [
    "x= \"MUHAMMAD IBRAHIM\"            # it will convert to lowercase \n",
    "y=x.lower()\n",
    "print(y)"
   ]
  },
  {
   "cell_type": "code",
   "execution_count": 52,
   "metadata": {},
   "outputs": [
    {
     "name": "stdout",
     "output_type": "stream",
     "text": [
      "True\n"
     ]
    }
   ],
   "source": [
    "x= \"  \"              # if spaces are given as string it will give true \n",
    "print(x.isspace())"
   ]
  },
  {
   "cell_type": "code",
   "execution_count": 54,
   "metadata": {},
   "outputs": [
    {
     "name": "stdout",
     "output_type": "stream",
     "text": [
      "False\n"
     ]
    }
   ],
   "source": [
    "x= \"MUHAMMAD IBRAHIM\"  #if some string without spaces than it will return false\n",
    "print(x.isspace())"
   ]
  },
  {
   "cell_type": "code",
   "execution_count": 58,
   "metadata": {},
   "outputs": [
    {
     "name": "stdout",
     "output_type": "stream",
     "text": [
      "True\n",
      "False\n"
     ]
    }
   ],
   "source": [
    "x= \"122111\" \n",
    "y= \"muhammad\"          #it will return true if string is digit \n",
    "print(x.isdigit())      # it willl return false if string is not digits\n",
    "print(y.isdigit())"
   ]
  },
  {
   "cell_type": "code",
   "execution_count": 59,
   "metadata": {},
   "outputs": [
    {
     "name": "stdout",
     "output_type": "stream",
     "text": [
      "WELCOME TO PIAIC \n"
     ]
    }
   ],
   "source": [
    "x= \"welcome to piaic \"          # convert string to uppercase\n",
    "print(x.upper())"
   ]
  },
  {
   "cell_type": "code",
   "execution_count": 60,
   "metadata": {},
   "outputs": [
    {
     "name": "stdout",
     "output_type": "stream",
     "text": [
      "mUHAMMAD iBRAHIM\n"
     ]
    }
   ],
   "source": [
    "x= \"Muhammad Ibrahim\"      # it will change upper to lowercase and vice versa\n",
    "y=x.swapcase()\n",
    "print(y)"
   ]
  },
  {
   "cell_type": "code",
   "execution_count": 64,
   "metadata": {},
   "outputs": [
    {
     "name": "stdout",
     "output_type": "stream",
     "text": [
      "('we ', 'are', ' pakistani')\n"
     ]
    }
   ],
   "source": [
    "a = \"we are pakistani\"                              #partition \n",
    "b = a.partition(\"are\")\n",
    "print(b)"
   ]
  },
  {
   "cell_type": "code",
   "execution_count": 76,
   "metadata": {},
   "outputs": [
    {
     "name": "stdout",
     "output_type": "stream",
     "text": [
      "muhammad.ibrahim\n"
     ]
    }
   ],
   "source": [
    "a = (\"muhammad\", \"ibrahim\")            #it will join the strings\n",
    "print(\".\".join(a))"
   ]
  },
  {
   "cell_type": "code",
   "execution_count": 78,
   "metadata": {},
   "outputs": [
    {
     "name": "stdout",
     "output_type": "stream",
     "text": [
      "['chair ', ' pencil ', ' card']\n"
     ]
    }
   ],
   "source": [
    "x = \"chair , pencil , card\"         # it will split the strings with comma after each value\n",
    "print(x.rsplit(',') )\n"
   ]
  },
  {
   "cell_type": "code",
   "execution_count": 79,
   "metadata": {},
   "outputs": [
    {
     "name": "stdout",
     "output_type": "stream",
     "text": [
      "['Welcome to PIAIC,', ' where you can learn']\n"
     ]
    }
   ],
   "source": [
    "x = \"Welcome to PIAIC,\\n where you can learn\"      # it will splitlines\n",
    "print(x.splitlines())"
   ]
  },
  {
   "cell_type": "code",
   "execution_count": 82,
   "metadata": {},
   "outputs": [
    {
     "name": "stdout",
     "output_type": "stream",
     "text": [
      "i am student of PIAIC\n",
      "i am student of PIAIC\n",
      "dent\n",
      "CIAIP fo tneduts ma i\n"
     ]
    }
   ],
   "source": [
    "x= \"i am student of PIAIC\"  # varibale[start:end:step] according to these values steps will print\n",
    "print(x)\n",
    "print(x[::])\n",
    "print(x[8:12:])    #it will print +1 charactaer starting value and -1 from end value is S printed\n",
    "print(x[::-1])"
   ]
  },
  {
   "cell_type": "code",
   "execution_count": 85,
   "metadata": {},
   "outputs": [
    {
     "name": "stdout",
     "output_type": "stream",
     "text": [
      "13\n"
     ]
    }
   ],
   "source": [
    "x= \"i said to my friend to bring me some fruits\"\n",
    "print(x.index(\"friend\"))"
   ]
  },
  {
   "cell_type": "code",
   "execution_count": 88,
   "metadata": {},
   "outputs": [
    {
     "name": "stdout",
     "output_type": "stream",
     "text": [
      "ibrahim                        my fist name\n"
     ]
    }
   ],
   "source": [
    "w = \"ibrahim\"                          # it will give 30 character spaces for left justified\n",
    "print(w.ljust(30),\"my fist name\")"
   ]
  },
  {
   "cell_type": "code",
   "execution_count": 90,
   "metadata": {},
   "outputs": [
    {
     "name": "stdout",
     "output_type": "stream",
     "text": [
      "   Muhammad ibrahim\n",
      "Muhammad ibrahim\n"
     ]
    }
   ],
   "source": [
    "x= \"   Muhammad ibrahim\"\n",
    "print(x)                           # it removes the spaces at starting of the string if given when storing values\n",
    "print(x.lstrip())\n"
   ]
  },
  {
   "cell_type": "code",
   "execution_count": 91,
   "metadata": {},
   "outputs": [
    {
     "name": "stdout",
     "output_type": "stream",
     "text": [
      "my name is ibrahim\n"
     ]
    }
   ],
   "source": [
    "x= \"my name was ibrahim\"         # it replaces the word.\n",
    "print(x.replace('was','is'))"
   ]
  },
  {
   "cell_type": "code",
   "execution_count": 96,
   "metadata": {},
   "outputs": [
    {
     "name": "stdout",
     "output_type": "stream",
     "text": [
      "000000000muhammad ibrahim\n"
     ]
    }
   ],
   "source": [
    "x= \"muhammad ibrahim\"       # it will cover 25 characters from right side and add zeros to left of first string character\n",
    "print (x.zfill(25))"
   ]
  },
  {
   "cell_type": "code",
   "execution_count": 103,
   "metadata": {},
   "outputs": [
    {
     "name": "stdout",
     "output_type": "stream",
     "text": [
      "Max character: y\n"
     ]
    }
   ],
   "source": [
    "y = \"this is a string example....really!!!\"         # it will print the highest character in string\n",
    "print (\"Max character: \" + max(y))"
   ]
  }
 ],
 "metadata": {
  "kernelspec": {
   "display_name": "Python 3",
   "language": "python",
   "name": "python3"
  },
  "language_info": {
   "codemirror_mode": {
    "name": "ipython",
    "version": 3
   },
   "file_extension": ".py",
   "mimetype": "text/x-python",
   "name": "python",
   "nbconvert_exporter": "python",
   "pygments_lexer": "ipython3",
   "version": "3.7.3"
  }
 },
 "nbformat": 4,
 "nbformat_minor": 2
}
